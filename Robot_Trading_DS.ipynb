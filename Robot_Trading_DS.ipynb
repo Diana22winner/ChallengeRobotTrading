{
  "nbformat": 4,
  "nbformat_minor": 0,
  "metadata": {
    "colab": {
      "provenance": []
    },
    "kernelspec": {
      "name": "python3",
      "display_name": "Python 3"
    },
    "language_info": {
      "name": "python"
    }
  },
  "cells": [
    {
      "cell_type": "markdown",
      "source": [
        "#1 .Configuración del ambiente"
      ],
      "metadata": {
        "id": "zlujdfzXlbzz"
      }
    },
    {
      "cell_type": "code",
      "execution_count": null,
      "metadata": {
        "id": "FcBBhbA3f0ik"
      },
      "outputs": [],
      "source": [
        "#librerias python y su versión\n",
        "!python -V\n",
        "print('------')\n",
        "!pip show Pandas | grep 'Name\\|Version'\n",
        "print('------')\n",
        "!pip show Numpy | grep 'Name\\|Version'\n",
        "print('------')\n",
        "!pip show Matplotlib | grep 'Name\\|Version'"
      ]
    },
    {
      "cell_type": "markdown",
      "source": [
        "##Importacion de bibliotecas"
      ],
      "metadata": {
        "id": "3DZskIBD69XB"
      }
    },
    {
      "cell_type": "code",
      "source": [
        "import pandas as pd\n",
        "import numpy as np\n",
        "import matplotlib.pyplot as plt\n",
        "import yfinance as yf\n",
        "from urllib.request import urlopen\n",
        "from bs4 import BeautifulSoup  #de HTML\n",
        "import requests  #solicitudes HTTP\n",
        "from IPython.display import clear_output\n",
        "import time"
      ],
      "metadata": {
        "id": "XG2-dPLS7Ad0"
      },
      "execution_count": null,
      "outputs": []
    },
    {
      "cell_type": "markdown",
      "source": [
        "##Variables Globales"
      ],
      "metadata": {
        "id": "qb3tlSdfl5FZ"
      }
    },
    {
      "cell_type": "code",
      "source": [
        "global df_bitcoin, precio_actual, tendencia, media_bitcoin,  algoritmo_decision  #variables globales"
      ],
      "metadata": {
        "id": "cHj3jIwslsak"
      },
      "execution_count": null,
      "outputs": []
    },
    {
      "cell_type": "markdown",
      "source": [
        "#2. Obtención de datos"
      ],
      "metadata": {
        "id": "UPsFpMgr8Go2"
      }
    },
    {
      "cell_type": "markdown",
      "source": [
        "##Precios históricos de Bitcoin"
      ],
      "metadata": {
        "id": "FLcSo480bp2O"
      }
    },
    {
      "cell_type": "code",
      "source": [
        "#Datos históricos de precios del bitcoin en dólares últimos 7 días (intervaloes de 5 minnutos)\n",
        "\n",
        "def importar_base_bitcoin():\n",
        "  global df_bitcoin\n",
        "\n",
        "  simbolo = \"BTC-USD\"\n",
        "\n",
        "  btcDatos = yf.Ticker(simbolo).history(period='7d', interval='5m')\n",
        "  df_bitcoin = pd.DataFrame(btcDatos)\n",
        "  return df_bitcoin"
      ],
      "metadata": {
        "id": "fwgyF6Lx9Z1Y"
      },
      "execution_count": null,
      "outputs": []
    },
    {
      "cell_type": "code",
      "source": [
        "importar_base_bitcoin()\n",
        "df_bitcoin.head(10)"
      ],
      "metadata": {
        "id": "yChMLlBWCRcp"
      },
      "execution_count": null,
      "outputs": []
    },
    {
      "cell_type": "markdown",
      "source": [
        "##Tendencias btc"
      ],
      "metadata": {
        "id": "l6HYywscdhYl"
      }
    },
    {
      "cell_type": "code",
      "source": [
        "#Extraccion del precio actual del BTC de coinmarketCap\n",
        "def extraer_tendencias():\n",
        "  global df_bitcoin, df_bitcoin_limpio, precio_actual, tendencia, media_bitcoin,  algoritmo_decision\n",
        "  headers = {'User-Agent':\"Mozilla/5.0 (Windows NT 10.0; Win64; x64) AppleWebKit/537.36 (KHTML, like Gecko) Chrome/117.0.0.0 Safari/537.36\"}\n",
        "  url = \"https://coinmarketcap.com/\"\n",
        "  pageRes = requests.get(url, headers=headers)\n",
        "  soup = BeautifulSoup(pageRes.content, features=\"lxml\") #para analizar el html\n",
        "  respuesta= soup.findAll('p',{\"class\":\"sc-4984dd93-0 iqdbQL coin-item-symbol\"}) #simbolo bitcoin\n",
        "\n",
        "  indice = 0\n",
        "  for item in respuesta:\n",
        "    if item.getText() == \"BTC\":\n",
        "      break\n",
        "\n",
        "    indice+=1\n",
        "  lista=[]\n",
        "  respuesta = soup.findAll(\"div\",{\"class\":[\"sc-a0353bbc-0 gDrtaY\",\"sc-a0353bbc-0 gDrtaY fall\", \"sc-a0353bbc-0 gDrtaY rise\" ]}) #si baja o cae el precio\n",
        "  precio_actual=float(respuesta[indice].getText().replace(\"$\",\"\").replace(\",\",\"\"))\n",
        "\n",
        "  respuesta=soup.findAll(\"span\",{\"class\":[\"sc-d55c02b-0 iwhBxy\",\"sc-d55c02b-0 iwhBxy\"]})\n",
        "  for item in respuesta[::3]:\n",
        "    lista.append(item)\n",
        "\n",
        "  tendencia=\"\"\n",
        "  if lista[indice].find(\"span\")[\"class\"][0] == \"icon-Caret-down\":\n",
        "    tendencia = \"baja\"\n",
        "  else:\n",
        "    tendencia = \"alta\"\n"
      ],
      "metadata": {
        "id": "vRGfYb2DEg1Q"
      },
      "execution_count": null,
      "outputs": []
    },
    {
      "cell_type": "code",
      "source": [
        "extraer_tendencias()\n",
        "print('Bitcoin Precio: ', precio_actual)\n",
        "print('Tendencia: ', tendencia)"
      ],
      "metadata": {
        "id": "wdOe9zCGpfqn"
      },
      "execution_count": null,
      "outputs": []
    },
    {
      "cell_type": "markdown",
      "source": [
        "#3. Limpieza de datos"
      ],
      "metadata": {
        "id": "ErZ0PGdw8M24"
      }
    },
    {
      "cell_type": "code",
      "source": [
        "# Muestra el boxplot de la base sin tratamiento\n",
        "df_bitcoin.boxplot(['Close'])\n",
        "plt.title('Distribución del Precio del Bitcoin')"
      ],
      "metadata": {
        "id": "d0AxOWVHuP4o"
      },
      "execution_count": null,
      "outputs": []
    },
    {
      "cell_type": "code",
      "source": [
        "def limpieza_datos():\n",
        "    global df_bitcoin, df_bitcoin_limpio, media_bitcoin\n",
        "\n",
        "    # Crear una copia del dataframe df_bitcoin\n",
        "    df_bitcoin_limpio = df_bitcoin.copy()\n",
        "\n",
        "    # Tratar duplicados en el índice (Datetime)\n",
        "    df_bitcoin_limpio = df_bitcoin_limpio[~df_bitcoin_limpio.index.duplicated(keep='first')]\n",
        "\n",
        "    # Tratar valores nulos en la columna Close\n",
        "    df_bitcoin_limpio['Close'].fillna(method='ffill', inplace=True)\n",
        "\n",
        "    # Eliminar registros con Volume de transacción igual o menor a 0\n",
        "    df_bitcoin_limpio = df_bitcoin_limpio[df_bitcoin_limpio['Volume'] > 0]\n",
        "\n",
        "    # Identificar y eliminar outliers en el precio del Bitcoin (Close)\n",
        "    q1 = df_bitcoin_limpio['Close'].quantile(0.25)\n",
        "    q3 = df_bitcoin_limpio['Close'].quantile(0.75)\n",
        "    iqr = q3 - q1\n",
        "    lower_bound = q1 - 1.5 * iqr\n",
        "    upper_bound = q3 + 1.5 * iqr\n",
        "    df_bitcoin_limpio = df_bitcoin_limpio[(df_bitcoin_limpio['Close'] >= lower_bound) & (df_bitcoin_limpio['Close'] <= upper_bound)]\n",
        "\n",
        "    # Calcular el precio promedio (Close)\n",
        "    media_bitcoin = df_bitcoin_limpio['Close'].mean()"
      ],
      "metadata": {
        "id": "I0PnOEj7udx6"
      },
      "execution_count": null,
      "outputs": []
    },
    {
      "cell_type": "code",
      "source": [
        "def grafico_boxplot(dataframe):\n",
        "    # Obtener los valores máximo, mediana, mínimo, Q1 y Q3\n",
        "    max_val = dataframe['Close'].max()\n",
        "    median_val = dataframe['Close'].median()\n",
        "    min_val = dataframe['Close'].min()\n",
        "    q1_val = dataframe['Close'].quantile(0.25)\n",
        "    q3_val = dataframe['Close'].quantile(0.75)\n",
        "\n",
        "    # Crear gráfico boxplot horizontal\n",
        "    plt.figure(figsize=(10, 6))\n",
        "    plt.boxplot(dataframe['Close'], vert=True, patch_artist=True)\n",
        "\n",
        "    # Personalizar el gráfico\n",
        "    plt.title('Distribución del Precio del Bitcoin')\n",
        "    plt.xlabel('Cierre')\n",
        "    plt.ylabel('Precio de Bitcoin')\n",
        "\n",
        "    # Agregar guías para valor máximo, mediana, mínimo, Q1 y Q3\n",
        "    plt.axhline(y=max_val, color='red', linestyle='--')\n",
        "    plt.axhline(y=median_val, color='white', linestyle='--')\n",
        "    plt.axhline(y=min_val, color='green', linestyle='--')\n",
        "    plt.axhline(y=q1_val, color='orange', linestyle='--', label=f'Q1: {q1_val:.2f}')\n",
        "    plt.axhline(y=q3_val, color='purple', linestyle='--', label=f'Q3: {q3_val:.2f}')\n",
        "\n",
        "    # Etiquetas de los valores en las líneas\n",
        "    plt.annotate(f'Máximo: {max_val:.2f}', xy=(1, max_val), xytext=(10, 0),\n",
        "                 xycoords=('axes fraction', 'data'), textcoords='offset points', color='red')\n",
        "    plt.annotate(f'Mediana: {median_val:.2f}', xy=(1, median_val), xytext=(10, 0),\n",
        "                 xycoords=('axes fraction', 'data'), textcoords='offset points', color='white')\n",
        "    plt.annotate(f'Mínimo: {min_val:.2f}', xy=(1, min_val), xytext=(10, 0),\n",
        "                 xycoords=('axes fraction', 'data'), textcoords='offset points', color='green')\n",
        "    plt.annotate(f'Q1: {q1_val:.2f}', xy=(1, q1_val), xytext=(10, 0),\n",
        "                 xycoords=('axes fraction', 'data'), textcoords='offset points', color='orange')\n",
        "    plt.annotate(f'Q3: {q3_val:.2f}', xy=(1, q3_val), xytext=(10, 0),\n",
        "                 xycoords=('axes fraction', 'data'), textcoords='offset points', color='purple')\n",
        "\n",
        "    # Cambiar colores del boxplot\n",
        "    box_color = 'white'\n",
        "    whisker_color = 'gray'\n",
        "    flier_color = 'red'\n",
        "\n",
        "    for patch in plt.boxplot(dataframe['Close'], vert=True, patch_artist=True)['boxes']:\n",
        "        patch.set(facecolor=box_color, linewidth=1.5)\n",
        "\n",
        "    for whisker in plt.boxplot(dataframe['Close'], vert=True, patch_artist=True)['whiskers']:\n",
        "        whisker.set(color=whisker_color, linewidth=1.5)\n",
        "\n",
        "    for cap in plt.boxplot(dataframe['Close'], vert=True, patch_artist=True)['caps']:\n",
        "        cap.set(color=whisker_color, linewidth=1.5)\n",
        "\n",
        "    for flier in plt.boxplot(dataframe['Close'], vert=True, patch_artist=True)['fliers']:\n",
        "        flier.set(marker='o', color=flier_color, alpha=0.8)\n",
        "\n",
        "    # Mostrar el gráfico\n",
        "    plt.show()\n",
        "\n",
        "grafico_boxplot(df_bitcoin_limpio)"
      ],
      "metadata": {
        "id": "iF6vOSdtuvTS"
      },
      "execution_count": null,
      "outputs": []
    },
    {
      "cell_type": "code",
      "source": [
        "limpieza_datos()"
      ],
      "metadata": {
        "id": "keJMrBXCsIRh"
      },
      "execution_count": null,
      "outputs": []
    },
    {
      "cell_type": "markdown",
      "source": [
        "#4. Tomar decisiones"
      ],
      "metadata": {
        "id": "cUGtB9IY8Vy2"
      }
    },
    {
      "cell_type": "code",
      "source": [
        "def tomar_decisiones():\n",
        "  global algoritmo_decision\n",
        "\n",
        "  if precio_actual >= media_bitcoin and tendencia == 'baja':\n",
        "      algoritmo_decision = 'Vender'\n",
        "  elif precio_actual < media_bitcoin and tendencia == 'alta':\n",
        "      algoritmo_decision = 'Comprar'\n",
        "  else:\n",
        "      algoritmo_decision = 'esperar'\n",
        "\n"
      ],
      "metadata": {
        "id": "IuKkGiyQz9xt"
      },
      "execution_count": null,
      "outputs": []
    },
    {
      "cell_type": "code",
      "source": [
        "tomar_decisiones()"
      ],
      "metadata": {
        "id": "0Az3tKy51KeC"
      },
      "execution_count": null,
      "outputs": []
    },
    {
      "cell_type": "code",
      "source": [
        "print(\"Decisión del algoritmo:\", algoritmo_decision)"
      ],
      "metadata": {
        "id": "LXaOm1hT1KXG"
      },
      "execution_count": null,
      "outputs": []
    },
    {
      "cell_type": "markdown",
      "source": [
        "#5. Visualización"
      ],
      "metadata": {
        "id": "y7ehIIxm8aIB"
      }
    },
    {
      "cell_type": "code",
      "source": [
        "def visualizacion():\n",
        "  global df_bitcoin\n",
        "\n",
        "\n",
        "  #Agregando columna promedio\n",
        "  df_bitcoin['Promedio'] = media_bitcoin\n",
        "\n",
        "\n",
        "  #Dibujando el grafico\n",
        "  plt.style.use('ggplot')\n",
        "  plt.rcParams['axes.grid'] = True\n",
        "  plt.figure(figsize=(16, 5))\n",
        "  plt.title(\"Precio BTC\")\n",
        "  plt.plot(df_bitcoin.index, df_bitcoin['Close'], label='Precio del Bitcoin', color='blue')\n",
        "  plt.plot(df_bitcoin.index, df_bitcoin['Promedio'], label='Precio Promedio', linestyle='--', color='orange')\n",
        "\n",
        "  plt.text(df_bitcoin.index[-1], media_bitcoin + 30, f'Promedio: {media_bitcoin:.2f}', color='green', verticalalignment='bottom', horizontalalignment='right')\n",
        "\n",
        "  #tomador de decisiones en grafico\n",
        "  if algoritmo_decision == 'Vender':\n",
        "    plt.annotate('Vender', xy=(df_bitcoin.index[-1], df_bitcoin['Close'].iloc[-1]), xytext=(-20, 30),\n",
        "                  textcoords='offset points', arrowprops=dict(arrowstyle=\"->\", color='red'))\n",
        "  elif algoritmo_decision == 'Comprar':\n",
        "    plt.annotate('Comprar', xy=(df_bitcoin.index[-1], df_bitcoin['Close'].iloc[-1]), xytext=(-20, -30),\n",
        "                  textcoords='offset points', arrowprops=dict(arrowstyle=\"->\", color='green'))\n",
        "\n",
        "\n",
        "  plt.xlabel('Fecha')\n",
        "  plt.ylabel('Precio')\n",
        "  plt.legend()\n",
        "\n",
        "  plt.show()\n"
      ],
      "metadata": {
        "id": "jSluLAnl9fTl"
      },
      "execution_count": null,
      "outputs": []
    },
    {
      "cell_type": "code",
      "source": [
        "visualizacion()"
      ],
      "metadata": {
        "id": "dM5c5dWDAjsW"
      },
      "execution_count": null,
      "outputs": []
    },
    {
      "cell_type": "markdown",
      "source": [
        "#6. Automatización"
      ],
      "metadata": {
        "id": "0T9L5GSw8eTX"
      }
    },
    {
      "cell_type": "code",
      "source": [
        "def automatizacion():\n",
        "  while (True):\n",
        "    clear_output()\n",
        "    importar_base_bitcoin()\n",
        "    extraer_tendencias()\n",
        "    limpieza_datos()\n",
        "    tomar_decisiones()\n",
        "    visualizacion()\n",
        "    time.sleep(300)\n",
        "\n",
        "automatizacion()"
      ],
      "metadata": {
        "id": "-qyfH78tTII7"
      },
      "execution_count": null,
      "outputs": []
    }
  ]
}